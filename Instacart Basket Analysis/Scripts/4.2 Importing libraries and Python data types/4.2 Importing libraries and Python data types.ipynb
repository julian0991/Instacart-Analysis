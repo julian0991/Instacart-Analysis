{
 "cells": [
  {
   "cell_type": "markdown",
   "id": "44a07b71",
   "metadata": {},
   "source": [
    "# 01. Importing libraries "
   ]
  },
  {
   "cell_type": "code",
   "execution_count": 2,
   "id": "ade767c2",
   "metadata": {},
   "outputs": [],
   "source": [
    "#import libraries \n",
    "import pandas as pd\n",
    "import numpy as np\n",
    "import os"
   ]
  },
  {
   "cell_type": "code",
   "execution_count": 5,
   "id": "27ef94ba",
   "metadata": {},
   "outputs": [],
   "source": [
    "x = 2"
   ]
  },
  {
   "cell_type": "markdown",
   "id": "85853dcf",
   "metadata": {},
   "source": [
    "# 02. Data Types"
   ]
  },
  {
   "cell_type": "code",
   "execution_count": 25,
   "id": "64bd846d",
   "metadata": {},
   "outputs": [
    {
     "data": {
      "text/plain": [
       "100"
      ]
     },
     "execution_count": 25,
     "metadata": {},
     "output_type": "execute_result"
    }
   ],
   "source": [
    "50 + 50"
   ]
  },
  {
   "cell_type": "code",
   "execution_count": 28,
   "id": "071d1710",
   "metadata": {},
   "outputs": [
    {
     "data": {
      "text/plain": [
       "100"
      ]
     },
     "execution_count": 28,
     "metadata": {},
     "output_type": "execute_result"
    }
   ],
   "source": [
    "200-100"
   ]
  },
  {
   "cell_type": "code",
   "execution_count": 30,
   "id": "1860e2b1",
   "metadata": {},
   "outputs": [],
   "source": [
    "x = 90\n",
    "\n",
    "y = 10"
   ]
  },
  {
   "cell_type": "code",
   "execution_count": 31,
   "id": "94bcd7f9",
   "metadata": {},
   "outputs": [
    {
     "data": {
      "text/plain": [
       "100"
      ]
     },
     "execution_count": 31,
     "metadata": {},
     "output_type": "execute_result"
    }
   ],
   "source": [
    "x + y"
   ]
  },
  {
   "cell_type": "code",
   "execution_count": 32,
   "id": "a9a2cd81",
   "metadata": {},
   "outputs": [
    {
     "data": {
      "text/plain": [
       "1.6875"
      ]
     },
     "execution_count": 32,
     "metadata": {},
     "output_type": "execute_result"
    }
   ],
   "source": [
    "5.4/3.2"
   ]
  },
  {
   "cell_type": "code",
   "execution_count": 33,
   "id": "a1397623",
   "metadata": {},
   "outputs": [],
   "source": [
    "d = 'Hello,'\n",
    "\n",
    "e = 'world'"
   ]
  },
  {
   "cell_type": "code",
   "execution_count": 34,
   "id": "7a7ea151",
   "metadata": {},
   "outputs": [
    {
     "data": {
      "text/plain": [
       "'Hello,world'"
      ]
     },
     "execution_count": 34,
     "metadata": {},
     "output_type": "execute_result"
    }
   ],
   "source": [
    "d + e"
   ]
  },
  {
   "cell_type": "code",
   "execution_count": 35,
   "id": "ff8b7905",
   "metadata": {},
   "outputs": [],
   "source": [
    "f = 'My name is Julian' "
   ]
  },
  {
   "cell_type": "code",
   "execution_count": 36,
   "id": "8d3e2793",
   "metadata": {},
   "outputs": [
    {
     "name": "stdout",
     "output_type": "stream",
     "text": [
      "My name is Julian\n"
     ]
    }
   ],
   "source": [
    "print(f)"
   ]
  },
  {
   "cell_type": "code",
   "execution_count": 39,
   "id": "eb5a4254",
   "metadata": {},
   "outputs": [
    {
     "name": "stdout",
     "output_type": "stream",
     "text": [
      "I Enjoy Python\n"
     ]
    }
   ],
   "source": [
    "text = ['I', 'Enjoy', 'Python']\n",
    "\n",
    "print(' '.join(text))"
   ]
  },
  {
   "cell_type": "code",
   "execution_count": 43,
   "id": "f888ca07",
   "metadata": {},
   "outputs": [],
   "source": [
    "G = 'Gloria'\n"
   ]
  },
  {
   "cell_type": "code",
   "execution_count": 47,
   "id": "40bbd1dd",
   "metadata": {},
   "outputs": [
    {
     "name": "stdout",
     "output_type": "stream",
     "text": [
      "GloriaGloriaGloriaGloriaGloriaGloriaGloriaGloriaGloriaGloriaGloriaGloriaGloriaGloriaGloriaGloriaGloriaGloriaGloriaGloriaGloriaGloriaGloriaGloriaGloriaGloriaGloriaGloriaGloriaGloriaGloriaGloriaGloriaGloriaGloriaGloriaGloriaGloriaGloriaGloriaGloriaGloriaGloriaGloriaGloriaGloriaGloriaGloriaGloriaGloriaGloriaGloriaGloriaGloriaGloriaGloriaGloriaGloriaGloriaGloriaGloriaGloriaGloriaGloriaGloriaGloriaGloriaGloriaGloriaGloriaGloriaGloriaGloriaGloriaGloriaGloriaGloriaGloriaGloriaGloriaGloriaGloriaGloriaGloriaGloriaGloriaGloriaGloriaGloriaGloriaGloriaGloriaGloriaGloriaGloriaGloriaGloriaGloriaGloriaGloria\n"
     ]
    }
   ],
   "source": [
    "print(G * 100)"
   ]
  },
  {
   "cell_type": "code",
   "execution_count": null,
   "id": "d0afec4c",
   "metadata": {},
   "outputs": [],
   "source": []
  }
 ],
 "metadata": {
  "kernelspec": {
   "display_name": "Python 3 (ipykernel)",
   "language": "python",
   "name": "python3"
  },
  "language_info": {
   "codemirror_mode": {
    "name": "ipython",
    "version": 3
   },
   "file_extension": ".py",
   "mimetype": "text/x-python",
   "name": "python",
   "nbconvert_exporter": "python",
   "pygments_lexer": "ipython3",
   "version": "3.9.7"
  }
 },
 "nbformat": 4,
 "nbformat_minor": 5
}
